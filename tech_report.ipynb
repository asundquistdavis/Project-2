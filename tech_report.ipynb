{
 "cells": [
  {
   "cell_type": "markdown",
   "id": "634d5495",
   "metadata": {},
   "source": [
    "# Technical Report"
   ]
  },
  {
   "cell_type": "markdown",
   "id": "5ce7bb38",
   "metadata": {},
   "source": [
    "## Overview\n",
    "This notebook walks through the methodology of our ETL process for the video games sales database. \n",
    "\n",
    "Both of the data sets are available for download at [kaggle](https://www.kaggle.com/). \n",
    "\n",
    "The first decision we made was to use a PostgreSQL database. Relational database are typically easier to query. They can be harder to set up and limit what type of data can be added to the database. Since the data sets we are working with already have some relational structure, using SQL as opposed to MongoDB or another non-relational database is a natural choioce. We created our database's ERD using [quickDBD](https://www.quickdatabasediagrams.com/). The database is in 1st normal form - every element is atomic and cannot be borken down further. This fascilitates easier data querying and manipulation. The database is not in 2nd normal form because the \"sales\" table lacks a single column primary key. Since this would not drastically impact the functionality, we decided against it to keep the model more simple. \n",
    "\n",
    "<spelling>"
   ]
  },
  {
   "cell_type": "markdown",
   "id": "d92edc15",
   "metadata": {},
   "source": [
    "## Extract\n",
    "The extraction step is straight forward; both data sets are provided as csv files and we use pandas to read them into dataframes."
   ]
  },
  {
   "cell_type": "code",
   "execution_count": null,
   "id": "300b28c0",
   "metadata": {},
   "outputs": [],
   "source": [
    "file1 = \"Resources/world_population.csv\"\n",
    "file2 = \"Resources/vgsales.csv\""
   ]
  },
  {
   "cell_type": "markdown",
   "id": "f76f5dc9",
   "metadata": {},
   "source": [
    "## Transform"
   ]
  },
  {
   "cell_type": "code",
   "execution_count": null,
   "id": "326423d4",
   "metadata": {},
   "outputs": [],
   "source": []
  },
  {
   "cell_type": "markdown",
   "id": "56532af2",
   "metadata": {},
   "source": [
    "## Load"
   ]
  },
  {
   "cell_type": "code",
   "execution_count": null,
   "id": "218533f8",
   "metadata": {},
   "outputs": [],
   "source": []
  }
 ],
 "metadata": {
  "kernelspec": {
   "display_name": "Python 3 (ipykernel)",
   "language": "python",
   "name": "python3"
  },
  "language_info": {
   "codemirror_mode": {
    "name": "ipython",
    "version": 3
   },
   "file_extension": ".py",
   "mimetype": "text/x-python",
   "name": "python",
   "nbconvert_exporter": "python",
   "pygments_lexer": "ipython3",
   "version": "3.8.13"
  }
 },
 "nbformat": 4,
 "nbformat_minor": 5
}
