{
 "cells": [
  {
   "cell_type": "markdown",
   "id": "b601047b",
   "metadata": {},
   "source": [
    "## Overview"
   ]
  },
  {
   "cell_type": "code",
   "execution_count": null,
   "id": "94cbd3d4",
   "metadata": {},
   "outputs": [],
   "source": [
    "import pandas as pd"
   ]
  },
  {
   "cell_type": "code",
   "execution_count": null,
   "id": "ba3f21f7",
   "metadata": {},
   "outputs": [],
   "source": [
    "file1 = \"Resources/world_population.csv\"\n",
    "file2 = \"Resources/vgsales.csv\""
   ]
  },
  {
   "cell_type": "code",
   "execution_count": null,
   "id": "9b610cc8",
   "metadata": {},
   "outputs": [],
   "source": [
    "world_pop_df = pd.read_csv(file1)\n",
    "world_pop_df"
   ]
  },
  {
   "cell_type": "code",
   "execution_count": null,
   "id": "1c77c134",
   "metadata": {},
   "outputs": [],
   "source": [
    "vg_sales_df = pd.read_csv(file2)\n",
    "vg_sales_df"
   ]
  },
  {
   "cell_type": "markdown",
   "id": "28fa2565",
   "metadata": {},
   "source": [
    "## Extract"
   ]
  },
  {
   "cell_type": "code",
   "execution_count": null,
   "id": "3a799f3f",
   "metadata": {},
   "outputs": [],
   "source": []
  },
  {
   "cell_type": "markdown",
   "id": "72321a9d",
   "metadata": {},
   "source": [
    "## Transform"
   ]
  },
  {
   "cell_type": "code",
   "execution_count": null,
   "id": "919236d5",
   "metadata": {},
   "outputs": [],
   "source": []
  },
  {
   "cell_type": "markdown",
   "id": "325133c3",
   "metadata": {},
   "source": [
    "## Load"
   ]
  },
  {
   "cell_type": "code",
   "execution_count": null,
   "id": "7950824b",
   "metadata": {},
   "outputs": [],
   "source": []
  }
 ],
 "metadata": {
  "kernelspec": {
   "display_name": "Python 3 (ipykernel)",
   "language": "python",
   "name": "python3"
  },
  "language_info": {
   "codemirror_mode": {
    "name": "ipython",
    "version": 3
   },
   "file_extension": ".py",
   "mimetype": "text/x-python",
   "name": "python",
   "nbconvert_exporter": "python",
   "pygments_lexer": "ipython3",
   "version": "3.8.13"
  }
 },
 "nbformat": 4,
 "nbformat_minor": 5
}
